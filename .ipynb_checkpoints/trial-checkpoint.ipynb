{
 "cells": [
  {
   "cell_type": "raw",
   "id": "3dc693e2-1791-444f-8e46-3e4407f6348c",
   "metadata": {},
   "source": [
    "name = input (\"hey, what is your name? \")\n",
    "print(\"you are a good man \")\n",
    "print(name)"
   ]
  },
  {
   "cell_type": "code",
   "execution_count": 2,
   "id": "a237b703-a414-40e4-87b6-3dc2815e662a",
   "metadata": {},
   "outputs": [
    {
     "data": {
      "text/plain": [
       "7"
      ]
     },
     "execution_count": 2,
     "metadata": {},
     "output_type": "execute_result"
    }
   ],
   "source": [
    "3 | 5"
   ]
  },
  {
   "cell_type": "code",
   "execution_count": 3,
   "id": "87f27e92-1d74-452b-9d65-a184e40b0051",
   "metadata": {},
   "outputs": [
    {
     "data": {
      "text/plain": [
       "'0b111'"
      ]
     },
     "execution_count": 3,
     "metadata": {},
     "output_type": "execute_result"
    }
   ],
   "source": [
    "bin(7)"
   ]
  },
  {
   "cell_type": "code",
   "execution_count": 4,
   "id": "965bbf3f-e25f-4305-8bd5-c136080f22f9",
   "metadata": {},
   "outputs": [
    {
     "data": {
      "text/plain": [
       "-4"
      ]
     },
     "execution_count": 4,
     "metadata": {},
     "output_type": "execute_result"
    }
   ],
   "source": [
    "#negation\n",
    "~3"
   ]
  },
  {
   "cell_type": "code",
   "execution_count": 5,
   "id": "f4e6e99d-e39c-43a1-a8ac-8302aff281f0",
   "metadata": {},
   "outputs": [
    {
     "data": {
      "text/plain": [
       "-101"
      ]
     },
     "execution_count": 5,
     "metadata": {},
     "output_type": "execute_result"
    }
   ],
   "source": [
    "~100"
   ]
  },
  {
   "cell_type": "code",
   "execution_count": 6,
   "id": "a119359c-3e57-4cfb-8296-87f470d237b7",
   "metadata": {},
   "outputs": [
    {
     "data": {
      "text/plain": [
       "3"
      ]
     },
     "execution_count": 6,
     "metadata": {},
     "output_type": "execute_result"
    }
   ],
   "source": [
    "#xor operator\n",
    "#uses the sign \" ^ \"\n",
    "5^6"
   ]
  },
  {
   "cell_type": "code",
   "execution_count": 7,
   "id": "3f086b11-b362-4bf8-850b-2784602bd143",
   "metadata": {},
   "outputs": [],
   "source": [
    "#shift >> left shift and right shift\n",
    "#shhifts the bits to the left or the right"
   ]
  },
  {
   "cell_type": "code",
   "execution_count": 8,
   "id": "73fd9dd4-191f-4d7e-8b5a-ea3d70f051ab",
   "metadata": {},
   "outputs": [
    {
     "data": {
      "text/plain": [
       "280"
      ]
     },
     "execution_count": 8,
     "metadata": {},
     "output_type": "execute_result"
    }
   ],
   "source": [
    "#left shift \"<<\" shifts the bits to the left by a specified number of positions by filling 0's on the right\n",
    "35<<3"
   ]
  },
  {
   "cell_type": "code",
   "execution_count": 10,
   "id": "a5800036-0dec-47cc-8853-8403561a0962",
   "metadata": {},
   "outputs": [
    {
     "data": {
      "text/plain": [
       "'0b100011000'"
      ]
     },
     "execution_count": 10,
     "metadata": {},
     "output_type": "execute_result"
    }
   ],
   "source": [
    "#explanation = the binary value of 35 is 100011, using left shift--->adds three zeroes on the right of the number\n",
    "#so it becomes 100011'000', which is the binary value of 280\n",
    "bin(35) = 100011\n",
    "bin (280)"
   ]
  },
  {
   "cell_type": "code",
   "execution_count": 11,
   "id": "2104decd-9109-44f8-8c38-dd82b0292faa",
   "metadata": {},
   "outputs": [
    {
     "data": {
      "text/plain": [
       "35"
      ]
     },
     "execution_count": 11,
     "metadata": {},
     "output_type": "execute_result"
    }
   ],
   "source": [
    "#right shift operator \">>\": explanation is simila to the previous one,just the zeroes will be added \n",
    "#on the left side of the number\n",
    "280>>3\n"
   ]
  },
  {
   "cell_type": "code",
   "execution_count": 12,
   "id": "05708a1d-79a4-41c9-85ea-db6bc018aa89",
   "metadata": {},
   "outputs": [],
   "source": [
    "#execution of python code will always be from left to right"
   ]
  },
  {
   "cell_type": "code",
   "execution_count": 13,
   "id": "e664a733-4f90-4c89-8182-eb4d523c9ea0",
   "metadata": {},
   "outputs": [
    {
     "data": {
      "text/plain": [
       "10.6"
      ]
     },
     "execution_count": 13,
     "metadata": {},
     "output_type": "execute_result"
    }
   ],
   "source": [
    "#lecture: typecasting---->\n",
    "5+5.6"
   ]
  },
  {
   "cell_type": "code",
   "execution_count": 14,
   "id": "572a2f1b-70e4-472c-88a5-bcb776873822",
   "metadata": {},
   "outputs": [
    {
     "ename": "TypeError",
     "evalue": "can only concatenate str (not \"int\") to str",
     "output_type": "error",
     "traceback": [
      "\u001b[1;31m---------------------------------------------------------------------------\u001b[0m",
      "\u001b[1;31mTypeError\u001b[0m                                 Traceback (most recent call last)",
      "Cell \u001b[1;32mIn[14], line 5\u001b[0m\n\u001b[0;32m      3\u001b[0m a\u001b[38;5;241m=\u001b[39m\u001b[38;5;124m\"\u001b[39m\u001b[38;5;124m2\u001b[39m\u001b[38;5;124m\"\u001b[39m\n\u001b[0;32m      4\u001b[0m b\u001b[38;5;241m=\u001b[39m\u001b[38;5;241m3\u001b[39m\n\u001b[1;32m----> 5\u001b[0m \u001b[43ma\u001b[49m\u001b[38;5;241;43m+\u001b[39;49m\u001b[43mb\u001b[49m\n",
      "\u001b[1;31mTypeError\u001b[0m: can only concatenate str (not \"int\") to str"
     ]
    }
   ],
   "source": [
    "#while coding there often come times where there is a mismatch between the datatypes and the operations\n",
    "#between them are not properly executed and show error for eg\n",
    "a=\"2\"\n",
    "b=3\n",
    "a+b"
   ]
  },
  {
   "cell_type": "code",
   "execution_count": 15,
   "id": "5fffc7e7-bb83-4c45-acf1-ad7f7a8ab92c",
   "metadata": {},
   "outputs": [
    {
     "data": {
      "text/plain": [
       "5"
      ]
     },
     "execution_count": 15,
     "metadata": {},
     "output_type": "execute_result"
    }
   ],
   "source": [
    "#it can clearly be seen that although the value of a is a number,since it is put inside inverted commas,\n",
    "#it identifies as a string\n",
    "#solution\n",
    "a=\"2\"\n",
    "b=3\n",
    "int(a)+b"
   ]
  },
  {
   "cell_type": "code",
   "execution_count": 16,
   "id": "2c006232-4a5c-46f3-8f0f-327714ef1b02",
   "metadata": {},
   "outputs": [
    {
     "name": "stdout",
     "output_type": "stream",
     "text": [
      "<class 'str'>\n",
      "<class 'int'>\n"
     ]
    }
   ],
   "source": [
    "## string to integer\n",
    "a=\"2\"\n",
    "print(type(a))\n",
    "print(type(int(a)))"
   ]
  },
  {
   "cell_type": "code",
   "execution_count": 17,
   "id": "00b0880d-1ef8-4b32-a992-3e216f1dadca",
   "metadata": {},
   "outputs": [
    {
     "name": "stdout",
     "output_type": "stream",
     "text": [
      "<class 'str'>\n"
     ]
    }
   ],
   "source": [
    "a = \"ajay\"\n",
    "print(type(a))"
   ]
  },
  {
   "cell_type": "code",
   "execution_count": 18,
   "id": "8c9e10e6-2855-47f4-9646-9d7085e0ea37",
   "metadata": {},
   "outputs": [
    {
     "data": {
      "text/plain": [
       "int"
      ]
     },
     "execution_count": 18,
     "metadata": {},
     "output_type": "execute_result"
    }
   ],
   "source": [
    "a=2\n",
    "type(a)"
   ]
  },
  {
   "cell_type": "code",
   "execution_count": 19,
   "id": "b48a3a57-2e27-43bc-bf87-e0e30da0ff23",
   "metadata": {},
   "outputs": [],
   "source": [
    "b= float(a)"
   ]
  },
  {
   "cell_type": "code",
   "execution_count": 20,
   "id": "413dc3d1-9027-4f78-8ad4-d9cd674bcdf8",
   "metadata": {},
   "outputs": [
    {
     "data": {
      "text/plain": [
       "2.0"
      ]
     },
     "execution_count": 20,
     "metadata": {},
     "output_type": "execute_result"
    }
   ],
   "source": [
    "b"
   ]
  },
  {
   "cell_type": "code",
   "execution_count": 21,
   "id": "3694389a-ba37-4a7d-9610-78eb8c966acd",
   "metadata": {},
   "outputs": [
    {
     "name": "stdin",
     "output_type": "stream",
     "text": [
      "what is your name?  aniket dutta\n"
     ]
    },
    {
     "name": "stdout",
     "output_type": "stream",
     "text": [
      "you are a good man aniket dutta\n"
     ]
    }
   ],
   "source": [
    "name=input(\"what is your name? \")\n",
    "print(\"you are a good man \"+name)\n"
   ]
  },
  {
   "cell_type": "code",
   "execution_count": 22,
   "id": "aa9b19d4-14a1-43ca-8e20-570b991641d2",
   "metadata": {},
   "outputs": [
    {
     "name": "stdin",
     "output_type": "stream",
     "text": [
      "Hey, what is your name?  Aniket Dutta\n"
     ]
    },
    {
     "name": "stdout",
     "output_type": "stream",
     "text": [
      "You are a great man Aniket Dutta\n"
     ]
    }
   ],
   "source": [
    "name = input(\"Hey, what is your name? \")\n",
    "print(\"You are a great man \"+ name)"
   ]
  },
  {
   "cell_type": "code",
   "execution_count": 27,
   "id": "c07f0653-1b52-4901-9bd9-2d8637544389",
   "metadata": {},
   "outputs": [
    {
     "name": "stdin",
     "output_type": "stream",
     "text": [
      "Enter any number  12\n"
     ]
    },
    {
     "name": "stdout",
     "output_type": "stream",
     "text": [
      "12is an even number\n"
     ]
    }
   ],
   "source": [
    " a= int(input (\"Enter any number \"))\n",
    "if a%2 == 0:\n",
    "    print(f\"{a}is an even number\")\n",
    "else:\n",
    "    print(f\"{a}is an even number\")"
   ]
  },
  {
   "cell_type": "code",
   "execution_count": 1,
   "id": "e6dbd0ee-1b63-4e01-bf99-c58fb1df58fe",
   "metadata": {},
   "outputs": [
    {
     "name": "stdin",
     "output_type": "stream",
     "text": [
      "What is your age sir? :  12\n"
     ]
    },
    {
     "name": "stdout",
     "output_type": "stream",
     "text": [
      "You are a minor\n"
     ]
    }
   ],
   "source": [
    "a=int(input(\"What is your age sir? : \"))\n",
    "if a<18:\n",
    "    print(\"You are a minor\")\n",
    "elif (a>= 18 and a<=20):\n",
    "    print(\"You are eligible to drive but not eligible to drink\")\n",
    "else :\n",
    "    print(\"You are eligible for both driving and drinking\")\n",
    "    "
   ]
  },
  {
   "cell_type": "code",
   "execution_count": 2,
   "id": "67c4b997-4315-4552-aacd-c50c01ce6aad",
   "metadata": {},
   "outputs": [
    {
     "name": "stdout",
     "output_type": "stream",
     "text": [
      "helo wrld\n"
     ]
    }
   ],
   "source": [
    "print(\"helo wrld\");"
   ]
  },
  {
   "cell_type": "code",
   "execution_count": 3,
   "id": "842e0dfe-a4dd-4ffa-a960-862a98f27685",
   "metadata": {},
   "outputs": [
    {
     "name": "stdout",
     "output_type": "stream",
     "text": [
      "i am studying ds\n"
     ]
    }
   ],
   "source": [
    "is_ds_course= True\n",
    "if is_ds_course:\n",
    "    print (\"i am studying ds\");"
   ]
  },
  {
   "cell_type": "code",
   "execution_count": 5,
   "id": "3ab8961a-8000-4060-be54-7b2a426ec059",
   "metadata": {},
   "outputs": [
    {
     "name": "stdout",
     "output_type": "stream",
     "text": [
      "the weather is not good\n"
     ]
    }
   ],
   "source": [
    "weather= \"s\"\n",
    "if weather == \"sunny\":\n",
    "    print(\"the weather is good\");\n",
    "else:\n",
    "    print(\"the weather is not good\");    "
   ]
  },
  {
   "cell_type": "code",
   "execution_count": 7,
   "id": "b8951101-b59d-4b2f-a437-4059672b16ef",
   "metadata": {},
   "outputs": [
    {
     "name": "stdin",
     "output_type": "stream",
     "text": [
      "tell me your marks :  76\n"
     ]
    },
    {
     "name": "stdout",
     "output_type": "stream",
     "text": [
      "Good job! You got grade B\n"
     ]
    }
   ],
   "source": [
    "a = int(input(\"tell me your marks : \"))\n",
    "if (a>=90 and a<=100):\n",
    "    print (\"congratulations! You got grade A\");\n",
    "elif (a>=70 and a<=89):\n",
    "    print(\"Good job! You got grade B\")\n",
    "elif (a>=40 and a<=69):\n",
    "    print(\"Try harder next time...You got grade C\")\n",
    "else :\n",
    "    print(\"Better luck next time...You got grade D\")"
   ]
  },
  {
   "cell_type": "code",
   "execution_count": 12,
   "id": "9ca83a15-a73c-413e-9fe3-800361487d95",
   "metadata": {},
   "outputs": [
    {
     "name": "stdin",
     "output_type": "stream",
     "text": [
      "Please enter the price of the product that you want to buy :  250\n"
     ]
    },
    {
     "name": "stdout",
     "output_type": "stream",
     "text": [
      "Dear customer,we are providing a discount of 5%, the discounted price is : 237.5\n"
     ]
    }
   ],
   "source": [
    "p=float(input(\"Please enter the price of the product that you want to buy : \"));\n",
    "a=float(p-((5/100)*p));\n",
    "print (\"Dear customer,we are providing a discount of 5%, the discounted price is : \"+str(a));"
   ]
  },
  {
   "cell_type": "code",
   "execution_count": 5,
   "id": "6731c444-b541-4279-a1f1-6d0443954f5c",
   "metadata": {},
   "outputs": [
    {
     "name": "stdin",
     "output_type": "stream",
     "text": [
      "Please enter your name aniket dutta\n",
      "Please enter your email gdigehu@gmailcom\n",
      "Please enter your password hgdcgwfufjr\n"
     ]
    },
    {
     "name": "stdout",
     "output_type": "stream",
     "text": [
      "The email is not valid\n"
     ]
    }
   ],
   "source": [
    "name=input(\"Please enter your name\");\n",
    "email=input(\"Please enter your email\");\n",
    "password=input(\"Please enter your password\");\n",
    "if name == \"\" :\n",
    "    print(\"Name has not been entered yet\");\n",
    "else :\n",
    "    if \"@\" not in email or \"gmail.com\" not in email:\n",
    "        print(\"The email is not valid\");\n",
    "    else :\n",
    "        if len(password)<0 or len(password)<=5 :\n",
    "            print(\"Password should have more than 5 characters\");\n",
    "        else :\n",
    "            print(\"You have successfully logged in!!\");\n",
    "    "
   ]
  },
  {
   "cell_type": "code",
   "execution_count": 3,
   "id": "6044e54b-4348-43b8-a847-4a1116b77396",
   "metadata": {},
   "outputs": [
    {
     "name": "stdout",
     "output_type": "stream",
     "text": [
      "0\n",
      "1\n",
      "2\n",
      "3\n",
      "4\n",
      "5\n",
      "6\n",
      "l\n"
     ]
    }
   ],
   "source": [
    "#loops\n",
    "i=0\n",
    "while i<7:\n",
    "    print (i)\n",
    "    i=i+1\n",
    "else: print(\"l\")    "
   ]
  },
  {
   "cell_type": "code",
   "execution_count": 2,
   "id": "92c024cc-c105-440d-8102-bc9c5cc97563",
   "metadata": {},
   "outputs": [
    {
     "name": "stdout",
     "output_type": "stream",
     "text": [
      "a\n",
      "n\n",
      "i\n",
      "k\n",
      "e\n",
      "t\n"
     ]
    }
   ],
   "source": [
    "for i in \"aniket\":\n",
    "    print (i)"
   ]
  },
  {
   "cell_type": "code",
   "execution_count": 6,
   "id": "9244e00c-7bb7-4ae6-9d34-c9bf17a7a408",
   "metadata": {},
   "outputs": [
    {
     "name": "stdout",
     "output_type": "stream",
     "text": [
      "a\n",
      "n\n",
      "i\n",
      "k\n",
      "e\n",
      "t\n"
     ]
    }
   ],
   "source": [
    "l = [\"a\",\"n\",\"i\",\"k\",\"e\",\"t\"]\n",
    "for i in l:\n",
    "        print(i)"
   ]
  },
  {
   "cell_type": "code",
   "execution_count": 9,
   "id": "e6592f89-b043-4a7f-bf83-e3689a72de0a",
   "metadata": {},
   "outputs": [
    {
     "name": "stdout",
     "output_type": "stream",
     "text": [
      "a\n",
      "n\n",
      "i\n",
      "k\n"
     ]
    }
   ],
   "source": [
    "l=[\"a\",\"n\",\"i\",\"k\",\"e\",\"t\"]\n",
    "\n",
    "for i in l:\n",
    "    if i==\"e\":\n",
    "        break\n",
    "    print (i)\n",
    "else:\n",
    "    print(\"l\")"
   ]
  },
  {
   "cell_type": "code",
   "execution_count": 10,
   "id": "b1e1bffa-e2e3-4983-8f09-c8ecfc661b1c",
   "metadata": {},
   "outputs": [
    {
     "data": {
      "text/plain": [
       "[0, 1, 2, 3, 4, 5, 6, 7, 8, 9]"
      ]
     },
     "execution_count": 10,
     "metadata": {},
     "output_type": "execute_result"
    }
   ],
   "source": [
    "#range\n",
    "list(range(0,10))#it will print values from 0 to 9\n",
    "\n"
   ]
  },
  {
   "cell_type": "code",
   "execution_count": 11,
   "id": "34b4ad9d-159b-4223-981b-a9982bb8b577",
   "metadata": {},
   "outputs": [
    {
     "name": "stdout",
     "output_type": "stream",
     "text": [
      "0\n",
      "1\n",
      "2\n",
      "3\n",
      "4\n",
      "5\n",
      "6\n",
      "7\n",
      "8\n",
      "9\n"
     ]
    }
   ],
   "source": [
    "for i in range(10):\n",
    "    print (i)"
   ]
  },
  {
   "cell_type": "code",
   "execution_count": 13,
   "id": "178eaef8-5e6f-4ca0-83a7-5fc229d03549",
   "metadata": {},
   "outputs": [
    {
     "name": "stdout",
     "output_type": "stream",
     "text": [
      "0 1 2 3 4 5 6 7 8 9 "
     ]
    }
   ],
   "source": [
    "for i in range(10):\n",
    "    print (i,end=\" \") ##as you keep increasing the space between the inverted commas,you will see the numbers arranged with gaps between them"
   ]
  },
  {
   "cell_type": "code",
   "execution_count": 15,
   "id": "7c85348d-6a3f-41a5-a955-6e9960a28d89",
   "metadata": {},
   "outputs": [
    {
     "data": {
      "text/plain": [
       "[0, 2, 4, 6, 8]"
      ]
     },
     "execution_count": 15,
     "metadata": {},
     "output_type": "execute_result"
    }
   ],
   "source": [
    "#syntax of range:- start stop step,etc\n",
    "list(range(0,10,2))# the number 2 indicates the magnitude of the jump that is made"
   ]
  },
  {
   "cell_type": "code",
   "execution_count": 1,
   "id": "fbd97eb7-b117-4760-96d8-ca96a6931b51",
   "metadata": {},
   "outputs": [
    {
     "name": "stdout",
     "output_type": "stream",
     "text": [
      "* \n",
      "* * \n",
      "* * * \n",
      "* * * * \n"
     ]
    }
   ],
   "source": [
    "#using while loop making a ryt angled triangle using star\n",
    "row=1\n",
    "while row <= 4:\n",
    "    col = 1\n",
    "    while col <= row:\n",
    "        print(\"*\",end=\" \")\n",
    "        col=col+1\n",
    "    print()\n",
    "    row+=1"
   ]
  },
  {
   "cell_type": "code",
   "execution_count": 3,
   "id": "bba1dea4-e90b-4776-8c8e-0236353bfa42",
   "metadata": {},
   "outputs": [
    {
     "name": "stdout",
     "output_type": "stream",
     "text": [
      "* \n",
      "* * \n",
      "* * * \n",
      "* * * * \n",
      "* * * * * \n",
      "* * * * * * \n",
      "* * * * * * * \n",
      "* * * * * * * * \n"
     ]
    }
   ],
   "source": [
    "#making a ryt angled triangle using for loop using star\n",
    "for i in range(8):\n",
    "    for j in range(i+1):\n",
    "        print(\"*\",end=\" \")\n",
    "    print()    \n"
   ]
  },
  {
   "cell_type": "code",
   "execution_count": 3,
   "id": "4a04d141-5304-4846-8fe2-61a260e3ac1b",
   "metadata": {},
   "outputs": [
    {
     "name": "stdout",
     "output_type": "stream",
     "text": [
      "* * * \n",
      "* * * * \n",
      "* * * * * \n"
     ]
    }
   ],
   "source": [
    "for i in range(3):\n",
    "    for j in range(i+3):\n",
    "        print(\"*\", end=\" \")\n",
    "    print()    \n",
    "    i=i-1  "
   ]
  },
  {
   "cell_type": "code",
   "execution_count": 12,
   "id": "1f1fcb16-971c-4215-80ab-c46b52bcd54d",
   "metadata": {},
   "outputs": [
    {
     "name": "stdout",
     "output_type": "stream",
     "text": [
      "* * *\n",
      "\n",
      "* * *\n",
      "\n",
      "* * *\n",
      "\n"
     ]
    }
   ],
   "source": [
    "for i in range(3):\n",
    "    print(\"* * *\")\n",
    "    print()\n"
   ]
  },
  {
   "cell_type": "code",
   "execution_count": 19,
   "id": "aa1e577a-f3c5-40f8-bb34-385cfd25d8d7",
   "metadata": {},
   "outputs": [
    {
     "name": "stdin",
     "output_type": "stream",
     "text": [
      "Enter the number :  5\n"
     ]
    },
    {
     "name": "stdout",
     "output_type": "stream",
     "text": [
      "5 * 1 = 5\n",
      "5 * 2 = 10\n",
      "5 * 3 = 15\n",
      "5 * 4 = 20\n",
      "5 * 5 = 25\n",
      "5 * 6 = 30\n",
      "5 * 7 = 35\n",
      "5 * 8 = 40\n",
      "5 * 9 = 45\n",
      "5 * 10 = 50\n",
      "\n"
     ]
    }
   ],
   "source": [
    "#multiplication table\n",
    "i = int(input(\"Enter the number : \"))\n",
    "for j in range(1,11):\n",
    "        product = i*j\n",
    "        print(f\"{i} * {j} = {product}\")\n",
    "print()    "
   ]
  },
  {
   "cell_type": "code",
   "execution_count": 1,
   "id": "d8f3ebf0-275b-4517-9aa8-81c37f377c03",
   "metadata": {},
   "outputs": [],
   "source": [
    "#data structures>> string, list, set, tuples, dictionary, array\n",
    "#list>> can store heterogenous data/any datatype\n",
    "#lists are mutable\n",
    "a=[\"potato\", \"brinjal\", \"cucumber\", \"tomato\", \"carrot\"]\n",
    "#adding element to the list\n",
    "a.append(\"orange\")\n"
   ]
  },
  {
   "cell_type": "code",
   "execution_count": 2,
   "id": "8723bffe-2ade-441b-be01-5540e872f06a",
   "metadata": {},
   "outputs": [
    {
     "data": {
      "text/plain": [
       "['potato', 'brinjal', 'cucumber', 'tomato', 'carrot', 'orange']"
      ]
     },
     "execution_count": 2,
     "metadata": {},
     "output_type": "execute_result"
    }
   ],
   "source": [
    "a"
   ]
  },
  {
   "cell_type": "code",
   "execution_count": 3,
   "id": "6cb25b70-0b80-4a16-b540-dfc9cf4196ab",
   "metadata": {},
   "outputs": [],
   "source": [
    "#removing element from the list\n",
    "a.remove(\"cucumber\")"
   ]
  },
  {
   "cell_type": "code",
   "execution_count": 4,
   "id": "ee769991-b668-4bb8-b9eb-dfbe95a1ee4f",
   "metadata": {},
   "outputs": [
    {
     "data": {
      "text/plain": [
       "['potato', 'brinjal', 'tomato', 'carrot', 'orange']"
      ]
     },
     "execution_count": 4,
     "metadata": {},
     "output_type": "execute_result"
    }
   ],
   "source": [
    "a"
   ]
  },
  {
   "cell_type": "code",
   "execution_count": 5,
   "id": "fccf4d44-9053-40fc-bd38-78bba8a18c53",
   "metadata": {},
   "outputs": [
    {
     "data": {
      "text/plain": [
       "[[1, 2, 3], [4, 5, 6], [7, 8, 9]]"
      ]
     },
     "execution_count": 5,
     "metadata": {},
     "output_type": "execute_result"
    }
   ],
   "source": [
    "#list inside list\n",
    "lis=[[1,2,3],[4,5,6],[7,8,9]]\n",
    "lis"
   ]
  },
  {
   "cell_type": "code",
   "execution_count": 6,
   "id": "2d875d35-8726-434f-9a42-0be955d247db",
   "metadata": {},
   "outputs": [
    {
     "data": {
      "text/plain": [
       "5"
      ]
     },
     "execution_count": 6,
     "metadata": {},
     "output_type": "execute_result"
    }
   ],
   "source": [
    "#calling an element\n",
    "lis[1][1]"
   ]
  },
  {
   "cell_type": "code",
   "execution_count": 7,
   "id": "f8d7c9d1-c94a-4a5f-af37-bb6d434d708f",
   "metadata": {},
   "outputs": [],
   "source": [
    "#mutability\n",
    "shopping_list= [\"apple\",\"brinjal\",\"potato\",\"pwskills\"]\n",
    "#replacing an element\n",
    "shopping_list[0]=\"carrot\""
   ]
  },
  {
   "cell_type": "code",
   "execution_count": 8,
   "id": "e5a25cd7-e81d-4a6b-9127-55e9daf461bb",
   "metadata": {},
   "outputs": [
    {
     "data": {
      "text/plain": [
       "['carrot', 'brinjal', 'potato', 'pwskills']"
      ]
     },
     "execution_count": 8,
     "metadata": {},
     "output_type": "execute_result"
    }
   ],
   "source": [
    "shopping_list"
   ]
  },
  {
   "cell_type": "code",
   "execution_count": 9,
   "id": "235fb9c9-45e8-4617-83d9-a7ea1bae95e0",
   "metadata": {},
   "outputs": [
    {
     "name": "stdout",
     "output_type": "stream",
     "text": [
      "carrot brinjal potato pwskills "
     ]
    }
   ],
   "source": [
    "for item in shopping_list:\n",
    "    print(item,end=\" \")"
   ]
  },
  {
   "cell_type": "code",
   "execution_count": 11,
   "id": "c4e82b68-2b03-4f0b-b4f6-9855752a5a6e",
   "metadata": {},
   "outputs": [
    {
     "name": "stdout",
     "output_type": "stream",
     "text": [
      "carrot\n",
      "brinjal\n",
      "potato\n",
      "pwskills\n"
     ]
    }
   ],
   "source": [
    "for g in shopping_list:\n",
    "    print(g)"
   ]
  },
  {
   "cell_type": "code",
   "execution_count": 12,
   "id": "e487d890-721c-4e1d-9a7b-fc7338815b60",
   "metadata": {},
   "outputs": [],
   "source": [
    "#tuple>> immutable>> cant edit,storing data like adhar card number,atm number,etc...\n",
    "#heterogenous\n",
    "point=(2,3)"
   ]
  },
  {
   "cell_type": "code",
   "execution_count": 13,
   "id": "451bae14-2406-41cc-8a20-a454b3cdb3ef",
   "metadata": {},
   "outputs": [
    {
     "data": {
      "text/plain": [
       "tuple"
      ]
     },
     "execution_count": 13,
     "metadata": {},
     "output_type": "execute_result"
    }
   ],
   "source": [
    "type(point)"
   ]
  },
  {
   "cell_type": "code",
   "execution_count": 14,
   "id": "beaf45c2-b2a5-45d4-adab-4a001145f7cd",
   "metadata": {},
   "outputs": [],
   "source": [
    "#tuple inside tuple\n",
    "box1=(\"a\",\"b\")\n",
    "box2=(\"c\",\"d\")\n",
    "choco_box=(box1,box2)"
   ]
  },
  {
   "cell_type": "code",
   "execution_count": 15,
   "id": "89df25ee-eb0a-4b56-80b2-429d4f55b35e",
   "metadata": {},
   "outputs": [
    {
     "data": {
      "text/plain": [
       "(('a', 'b'), ('c', 'd'))"
      ]
     },
     "execution_count": 15,
     "metadata": {},
     "output_type": "execute_result"
    }
   ],
   "source": [
    "choco_box"
   ]
  },
  {
   "cell_type": "code",
   "execution_count": 18,
   "id": "35a0bbd7-ed4b-4ce4-a496-ca19557fdf5c",
   "metadata": {},
   "outputs": [
    {
     "name": "stdout",
     "output_type": "stream",
     "text": [
      "a\n",
      "b\n",
      "c\n",
      "d\n"
     ]
    }
   ],
   "source": [
    "for i in choco_box:\n",
    "    for j in i:\n",
    "        print(j)"
   ]
  },
  {
   "cell_type": "code",
   "execution_count": 19,
   "id": "2ff17132-86d3-47ea-a30c-84126441f04e",
   "metadata": {},
   "outputs": [
    {
     "data": {
      "text/plain": [
       "set"
      ]
     },
     "execution_count": 19,
     "metadata": {},
     "output_type": "execute_result"
    }
   ],
   "source": [
    "#sets>> unordered collection of unique elements>> mutable>> major usecase: picking the unique elements from any set of elements\n",
    "s={\"red\",\"purple\",\"orange\"}\n",
    "type(s)"
   ]
  },
  {
   "cell_type": "code",
   "execution_count": 20,
   "id": "18adfa97-5935-43e0-ab10-1c8a9705e28d",
   "metadata": {},
   "outputs": [],
   "source": [
    "s={\"red\",\"orange\",\"pink\",\"yellow\",\"red\"}"
   ]
  },
  {
   "cell_type": "code",
   "execution_count": 21,
   "id": "1b2533b4-ae6e-42a9-9f25-5b32bab30724",
   "metadata": {},
   "outputs": [
    {
     "data": {
      "text/plain": [
       "{'orange', 'pink', 'red', 'yellow'}"
      ]
     },
     "execution_count": 21,
     "metadata": {},
     "output_type": "execute_result"
    }
   ],
   "source": [
    "s"
   ]
  },
  {
   "cell_type": "code",
   "execution_count": 22,
   "id": "cd3ab370-8c9e-41f0-8ae6-f20bfa6ac37c",
   "metadata": {},
   "outputs": [],
   "source": [
    "#the result has 2 keyy takeaways: 1.The repeated elements are not repeated,means elements only uniquely chosen\n",
    "#                                 2.The elements are arranged in unordered fashion\n",
    "#since it is unordered,the numbers cant be called out(indexed),unlike lists and tuple\n",
    "###adding element to the set,it can be removed using {s.remove(name)}\n",
    "s.add(\"purple\")\n"
   ]
  },
  {
   "cell_type": "code",
   "execution_count": 23,
   "id": "2511482c-61a0-491e-8b9e-e907ecb07b71",
   "metadata": {},
   "outputs": [
    {
     "data": {
      "text/plain": [
       "{'orange', 'pink', 'purple', 'red', 'yellow'}"
      ]
     },
     "execution_count": 23,
     "metadata": {},
     "output_type": "execute_result"
    }
   ],
   "source": [
    "s"
   ]
  },
  {
   "cell_type": "code",
   "execution_count": 24,
   "id": "240e6dd6-4c99-4153-ab88-c8a8a73556bd",
   "metadata": {},
   "outputs": [
    {
     "data": {
      "text/plain": [
       "{'dad': 1234, 'mom': 5678}"
      ]
     },
     "execution_count": 24,
     "metadata": {},
     "output_type": "execute_result"
    }
   ],
   "source": [
    "#dictionaries>> stores the data in the form of key value pair\n",
    "phone_book={\"dad\": 1234,\"mom\": 5678}\n",
    "phone_book"
   ]
  },
  {
   "cell_type": "code",
   "execution_count": 25,
   "id": "22d628db-e449-49a8-9d39-9064b3a9b1fb",
   "metadata": {},
   "outputs": [
    {
     "data": {
      "text/plain": [
       "1234"
      ]
     },
     "execution_count": 25,
     "metadata": {},
     "output_type": "execute_result"
    }
   ],
   "source": [
    "phone_book[\"dad\"]"
   ]
  },
  {
   "cell_type": "code",
   "execution_count": 26,
   "id": "15a75a94-bed7-4374-8aa6-92ba068f39c2",
   "metadata": {},
   "outputs": [],
   "source": [
    "##the element added to the end of dict,if resembles some previous element,will replace that previous element,for eg...\n",
    "phone_book={\"dad\": 1234,\"mom\": 5678,\"dad\": 345}"
   ]
  },
  {
   "cell_type": "code",
   "execution_count": 27,
   "id": "099e72ff-1f84-4745-912e-5237e3c471cf",
   "metadata": {},
   "outputs": [
    {
     "data": {
      "text/plain": [
       "{'dad': 345, 'mom': 5678}"
      ]
     },
     "execution_count": 27,
     "metadata": {},
     "output_type": "execute_result"
    }
   ],
   "source": [
    "phone_book"
   ]
  },
  {
   "cell_type": "code",
   "execution_count": 33,
   "id": "29f6fc17-260a-49c9-aa80-1ec7c5fbd9bd",
   "metadata": {},
   "outputs": [],
   "source": [
    "rest_menu={\"paneer\": 450,\"rice\": 100,\"mutton\": 1234}"
   ]
  },
  {
   "cell_type": "code",
   "execution_count": 29,
   "id": "67219b02-6133-45e9-b4ad-e11b946d7949",
   "metadata": {},
   "outputs": [
    {
     "data": {
      "text/plain": [
       "450"
      ]
     },
     "execution_count": 29,
     "metadata": {},
     "output_type": "execute_result"
    }
   ],
   "source": [
    "rest_menu[\"paneer\"]"
   ]
  },
  {
   "cell_type": "code",
   "execution_count": 30,
   "id": "ebffa1d8-7ecd-453a-8f95-fea7ce08b625",
   "metadata": {},
   "outputs": [],
   "source": [
    "rest_menu[\"paneer\"]=460"
   ]
  },
  {
   "cell_type": "code",
   "execution_count": 31,
   "id": "de58561b-a8a9-42b3-ac8b-88cb4b1ddf84",
   "metadata": {},
   "outputs": [
    {
     "data": {
      "text/plain": [
       "460"
      ]
     },
     "execution_count": 31,
     "metadata": {},
     "output_type": "execute_result"
    }
   ],
   "source": [
    "rest_menu[\"paneer\"]"
   ]
  },
  {
   "cell_type": "code",
   "execution_count": 34,
   "id": "5ad41b4e-2787-4ccc-b8fd-b70fbdc686fc",
   "metadata": {},
   "outputs": [
    {
     "data": {
      "text/plain": [
       "dict_keys(['paneer', 'rice', 'mutton'])"
      ]
     },
     "execution_count": 34,
     "metadata": {},
     "output_type": "execute_result"
    }
   ],
   "source": [
    "rest_menu.keys() #calling the content"
   ]
  },
  {
   "cell_type": "code",
   "execution_count": 35,
   "id": "8f1b78a7-54ee-4c73-8863-5372f68e33d6",
   "metadata": {},
   "outputs": [
    {
     "data": {
      "text/plain": [
       "dict_values([450, 100, 1234])"
      ]
     },
     "execution_count": 35,
     "metadata": {},
     "output_type": "execute_result"
    }
   ],
   "source": [
    "rest_menu.values() #calling the values of the elements"
   ]
  },
  {
   "cell_type": "code",
   "execution_count": 36,
   "id": "a405157a-56ff-423a-b771-6e65941dbb11",
   "metadata": {},
   "outputs": [],
   "source": [
    "## arrays>> homogenous>> similar to list\n"
   ]
  },
  {
   "cell_type": "code",
   "execution_count": 37,
   "id": "177ee430-8084-4e57-a2ba-73de96449b78",
   "metadata": {},
   "outputs": [
    {
     "data": {
      "text/plain": [
       "65"
      ]
     },
     "execution_count": 37,
     "metadata": {},
     "output_type": "execute_result"
    }
   ],
   "source": [
    "ord(\"A\")"
   ]
  },
  {
   "cell_type": "code",
   "execution_count": 38,
   "id": "f3959329-ae5b-4d17-9a5a-c50cf832ec29",
   "metadata": {},
   "outputs": [
    {
     "data": {
      "text/plain": [
       "'B'"
      ]
     },
     "execution_count": 38,
     "metadata": {},
     "output_type": "execute_result"
    }
   ],
   "source": [
    "chr(66)"
   ]
  },
  {
   "cell_type": "code",
   "execution_count": 39,
   "id": "f6d6e43e-593d-4fc6-a4ef-713f391f10d9",
   "metadata": {},
   "outputs": [
    {
     "data": {
      "text/plain": [
       "'\\x19'"
      ]
     },
     "execution_count": 39,
     "metadata": {},
     "output_type": "execute_result"
    }
   ],
   "source": [
    "chr(25)"
   ]
  },
  {
   "cell_type": "code",
   "execution_count": 1,
   "id": "a1c40de0-acd6-42d2-8275-35c709c02ebc",
   "metadata": {},
   "outputs": [
    {
     "data": {
      "text/plain": [
       "'ॷ'"
      ]
     },
     "execution_count": 1,
     "metadata": {},
     "output_type": "execute_result"
    }
   ],
   "source": [
    "'\\u0977'"
   ]
  },
  {
   "cell_type": "code",
   "execution_count": 2,
   "id": "9b5b0478-33a4-4377-8c32-192102ece734",
   "metadata": {},
   "outputs": [
    {
     "data": {
      "text/plain": [
       "'I am a student\\ni have purchased ds course \\nnow i study python'"
      ]
     },
     "execution_count": 2,
     "metadata": {},
     "output_type": "execute_result"
    }
   ],
   "source": [
    "'''I am a student\n",
    "i have purchased ds course \n",
    "now i study python'''\n"
   ]
  },
  {
   "cell_type": "code",
   "execution_count": 5,
   "id": "92b2f02e-4102-47e7-a103-3d40b4da8333",
   "metadata": {},
   "outputs": [
    {
     "ename": "SyntaxError",
     "evalue": "unexpected character after line continuation character (2070378494.py, line 1)",
     "output_type": "error",
     "traceback": [
      "\u001b[1;36m  Cell \u001b[1;32mIn[5], line 1\u001b[1;36m\u001b[0m\n\u001b[1;33m    \"I am a student\"\\n\"I live in silchar\"\u001b[0m\n\u001b[1;37m                     ^\u001b[0m\n\u001b[1;31mSyntaxError\u001b[0m\u001b[1;31m:\u001b[0m unexpected character after line continuation character\n"
     ]
    }
   ],
   "source": [
    "\"I am a student\"\\n\"I live in silchar\""
   ]
  },
  {
   "cell_type": "code",
   "execution_count": 10,
   "id": "0ebf1228-6779-400d-b1ff-32650fb05869",
   "metadata": {},
   "outputs": [
    {
     "data": {
      "text/plain": [
       "'hello world >> result of addition'"
      ]
     },
     "execution_count": 10,
     "metadata": {},
     "output_type": "execute_result"
    }
   ],
   "source": [
    "#addition of strings\n",
    "string1= \"hello\"\n",
    "string2= \"world\"\n",
    "string1 +\" \"+  string2+ \" >> result of addition\"#there is a space that has been added between string1 and string2(inv commas have to be added)"
   ]
  },
  {
   "cell_type": "code",
   "execution_count": 11,
   "id": "009b83a8-636e-4ca5-a222-447de55b2780",
   "metadata": {},
   "outputs": [],
   "source": [
    "string=\"ajay\""
   ]
  },
  {
   "cell_type": "code",
   "execution_count": 12,
   "id": "85baceaa-6bed-44e2-827b-30a77822827a",
   "metadata": {},
   "outputs": [
    {
     "data": {
      "text/plain": [
       "'a'"
      ]
     },
     "execution_count": 12,
     "metadata": {},
     "output_type": "execute_result"
    }
   ],
   "source": [
    "string[0]"
   ]
  },
  {
   "cell_type": "code",
   "execution_count": 13,
   "id": "40b2ce90-34a1-4beb-aea5-e87ebceeaf65",
   "metadata": {},
   "outputs": [
    {
     "data": {
      "text/plain": [
       "'I am'"
      ]
     },
     "execution_count": 13,
     "metadata": {},
     "output_type": "execute_result"
    }
   ],
   "source": [
    "#what if we want to access few parts of an entire sentence? sollution:-\n",
    "string=\"I am a good student\"\n",
    "#       |||||||||||||||||||\n",
    "#       0123456789012345678 >>> {counting the spaces}\n",
    "string[0:4]"
   ]
  },
  {
   "cell_type": "code",
   "execution_count": 15,
   "id": "89cfab0c-38d0-44b0-9dcc-52c82968001e",
   "metadata": {},
   "outputs": [
    {
     "data": {
      "text/plain": [
       "'I am a good'"
      ]
     },
     "execution_count": 15,
     "metadata": {},
     "output_type": "execute_result"
    }
   ],
   "source": [
    "string[0:11] #str[0:n-1]"
   ]
  },
  {
   "cell_type": "code",
   "execution_count": 16,
   "id": "cd794aaa-9084-4468-b2e2-2f849f579e9f",
   "metadata": {},
   "outputs": [
    {
     "data": {
      "text/plain": [
       "'I am a good student'"
      ]
     },
     "execution_count": 16,
     "metadata": {},
     "output_type": "execute_result"
    }
   ],
   "source": [
    "#also\n",
    "string[0:]"
   ]
  },
  {
   "cell_type": "code",
   "execution_count": 22,
   "id": "7826a344-5506-4b70-b52c-9d5628a2532b",
   "metadata": {},
   "outputs": [
    {
     "data": {
      "text/plain": [
       "'I am a good stud'"
      ]
     },
     "execution_count": 22,
     "metadata": {},
     "output_type": "execute_result"
    }
   ],
   "source": [
    "string[:-3]"
   ]
  },
  {
   "cell_type": "code",
   "execution_count": 23,
   "id": "24e5d394-6ea3-472a-aa67-4f3be66344ed",
   "metadata": {},
   "outputs": [
    {
     "data": {
      "text/plain": [
       "'ent'"
      ]
     },
     "execution_count": 23,
     "metadata": {},
     "output_type": "execute_result"
    }
   ],
   "source": [
    "string[-3:]\n",
    "#   string[     :     ]\n",
    "#            |     |\n",
    "#         start   end"
   ]
  },
  {
   "cell_type": "code",
   "execution_count": 24,
   "id": "5666071b-af68-4541-8be5-7ff3597a6640",
   "metadata": {},
   "outputs": [
    {
     "data": {
      "text/plain": [
       "'Ia '"
      ]
     },
     "execution_count": 24,
     "metadata": {},
     "output_type": "execute_result"
    }
   ],
   "source": [
    "#just like range function {range(1,10,1),here the numbers run from 1 to 9 and take one step at a time},string can be operated \n",
    "#with taking multiple steps at a time,for eg...{string[0:5:2], here the output will come as --- 'ia'}\n",
    "string[0:5:2]"
   ]
  },
  {
   "cell_type": "code",
   "execution_count": 25,
   "id": "a899d9bc-89c1-44a0-ad5e-0cf57871e594",
   "metadata": {},
   "outputs": [
    {
     "data": {
      "text/plain": [
       "'tneduts doog a ma I'"
      ]
     },
     "execution_count": 25,
     "metadata": {},
     "output_type": "execute_result"
    }
   ],
   "source": [
    "#reverse iteration>>\n",
    "string[::-1]"
   ]
  },
  {
   "cell_type": "code",
   "execution_count": 26,
   "id": "8ac10869-0674-47c9-bed5-ffad3d20564c",
   "metadata": {},
   "outputs": [],
   "source": [
    "string2=\"ANIKET\""
   ]
  },
  {
   "cell_type": "code",
   "execution_count": 28,
   "id": "0e891360-dde6-4fcf-a114-40db11f505e5",
   "metadata": {},
   "outputs": [
    {
     "data": {
      "text/plain": [
       "'TEKINA'"
      ]
     },
     "execution_count": 28,
     "metadata": {},
     "output_type": "execute_result"
    }
   ],
   "source": [
    "string2[::-1]"
   ]
  },
  {
   "cell_type": "code",
   "execution_count": 30,
   "id": "00dcbb03-c033-4e54-9c5a-cfee63edef73",
   "metadata": {},
   "outputs": [
    {
     "data": {
      "text/plain": [
       "'i live in subhashnagar, delhi'"
      ]
     },
     "execution_count": 30,
     "metadata": {},
     "output_type": "execute_result"
    }
   ],
   "source": [
    "#string is said to be immutable,but theres a way in which some elements can be replaced\n",
    "s=\"i live in indranagar, delhi\"\n",
    "s.replace(\"indranagar\",\"subhashnagar\")"
   ]
  },
  {
   "cell_type": "code",
   "execution_count": 32,
   "id": "55b36f01-723e-4625-9dfe-ecd106164a8a",
   "metadata": {},
   "outputs": [
    {
     "data": {
      "text/plain": [
       "'i live in dharmnagar, mumbai'"
      ]
     },
     "execution_count": 32,
     "metadata": {},
     "output_type": "execute_result"
    }
   ],
   "source": [
    "#again\n",
    "s.replace(\"indranagar\",\"dharmnagar\").replace(\"delhi\",\"mumbai\")"
   ]
  },
  {
   "cell_type": "code",
   "execution_count": 33,
   "id": "16c22376-11f9-44e4-8528-4e320c842f02",
   "metadata": {},
   "outputs": [
    {
     "data": {
      "text/plain": [
       "'hello world'"
      ]
     },
     "execution_count": 33,
     "metadata": {},
     "output_type": "execute_result"
    }
   ],
   "source": [
    "#changing the case of the alphabets\n",
    "text=\"HELLO WORLD\"\n",
    "text.lower()"
   ]
  },
  {
   "cell_type": "code",
   "execution_count": 34,
   "id": "631af6c5-c27c-4a2b-9938-deaa81acb321",
   "metadata": {},
   "outputs": [
    {
     "data": {
      "text/plain": [
       "'Hello World'"
      ]
     },
     "execution_count": 34,
     "metadata": {},
     "output_type": "execute_result"
    }
   ],
   "source": [
    "text.title()"
   ]
  },
  {
   "cell_type": "code",
   "execution_count": 35,
   "id": "fe50e0f8-d2cd-4571-aac1-35b0b73eb819",
   "metadata": {},
   "outputs": [
    {
     "data": {
      "text/plain": [
       "'hello world'"
      ]
     },
     "execution_count": 35,
     "metadata": {},
     "output_type": "execute_result"
    }
   ],
   "source": [
    "text.swapcase()"
   ]
  },
  {
   "cell_type": "code",
   "execution_count": 36,
   "id": "0e996f30-bb4e-465d-be1d-ec165992703f",
   "metadata": {},
   "outputs": [],
   "source": [
    "a=\"Hey how are You Doing MAN \""
   ]
  },
  {
   "cell_type": "code",
   "execution_count": 37,
   "id": "36853a39-1067-4775-ba0c-f27884547565",
   "metadata": {},
   "outputs": [
    {
     "data": {
      "text/plain": [
       "'hEY HOW ARE yOU dOING man '"
      ]
     },
     "execution_count": 37,
     "metadata": {},
     "output_type": "execute_result"
    }
   ],
   "source": [
    "a.swapcase()"
   ]
  },
  {
   "cell_type": "code",
   "execution_count": 39,
   "id": "946a984b-4d04-47ad-97fc-3de255baf3db",
   "metadata": {},
   "outputs": [
    {
     "data": {
      "text/plain": [
       "'Hey how are you doing man '"
      ]
     },
     "execution_count": 39,
     "metadata": {},
     "output_type": "execute_result"
    }
   ],
   "source": [
    "a.capitalize()"
   ]
  },
  {
   "cell_type": "code",
   "execution_count": 40,
   "id": "19dece9b-0e35-4d61-aae6-a791587ea5ca",
   "metadata": {},
   "outputs": [
    {
     "name": "stdout",
     "output_type": "stream",
     "text": [
      "The username is unavailable\n"
     ]
    }
   ],
   "source": [
    "registered_username=\"Aniket,Suraj,Vijay,suhani\"\n",
    "new_username= \"Kiran\"\n",
    "if new_username in registered_username:\n",
    "    print(\"The username is already in use\")\n",
    "else:\n",
    "    print(\"The username is unavailable\")\n"
   ]
  },
  {
   "cell_type": "code",
   "execution_count": 41,
   "id": "f255a0ec-7803-40fe-b8e4-434d3497ae6f",
   "metadata": {},
   "outputs": [
    {
     "name": "stdin",
     "output_type": "stream",
     "text": [
      "Please enter the code we have sent you :  P1345\n"
     ]
    },
    {
     "name": "stdout",
     "output_type": "stream",
     "text": [
      "This is not the code we have sent you\n"
     ]
    }
   ],
   "source": [
    "product_scan_code=\"P14556\"\n",
    "scancode=input(\"Please enter the code we have sent you : \")\n",
    "if scancode==product_scan_code:\n",
    "    print(\"The scan is accepted\")\n",
    "else:\n",
    "    print(\"This is not the code we have sent you\")\n"
   ]
  },
  {
   "cell_type": "code",
   "execution_count": 43,
   "id": "f1826e47-a8a2-443d-83aa-34db26562040",
   "metadata": {},
   "outputs": [
    {
     "data": {
      "text/plain": [
       "['bandra', 'dhoom 3', 'kkhh', 'mohabbatein', 'singham', 'suryavansham']"
      ]
     },
     "execution_count": 43,
     "metadata": {},
     "output_type": "execute_result"
    }
   ],
   "source": [
    "movies=\"kkhh\",\"mohabbatein\",\"dhoom 3\",\"suryavansham\",\"singham\",\"bandra\"\n",
    "sorted(movies)"
   ]
  },
  {
   "cell_type": "code",
   "execution_count": 44,
   "id": "94bdaf16-11a5-47dc-bd31-db7749fd652b",
   "metadata": {},
   "outputs": [
    {
     "data": {
      "text/plain": [
       "'very           good'"
      ]
     },
     "execution_count": 44,
     "metadata": {},
     "output_type": "execute_result"
    }
   ],
   "source": [
    "amit=\"    very           good     \"\n",
    "amit.strip()"
   ]
  },
  {
   "cell_type": "code",
   "execution_count": 7,
   "id": "99899693-bdfa-472b-bb5f-ca3f8fdd9a31",
   "metadata": {},
   "outputs": [],
   "source": [
    "data=\"ajay,bijay,kunal,kushal,vinay,ibrahim\"\n",
    "data=data.split(\",\")"
   ]
  },
  {
   "cell_type": "code",
   "execution_count": 8,
   "id": "b4a63228-b2aa-4ae9-a0c9-0ad6b314c859",
   "metadata": {},
   "outputs": [
    {
     "data": {
      "text/plain": [
       "['ajay', 'bijay', 'kunal', 'kushal', 'vinay', 'ibrahim']"
      ]
     },
     "execution_count": 8,
     "metadata": {},
     "output_type": "execute_result"
    }
   ],
   "source": [
    "data"
   ]
  },
  {
   "cell_type": "code",
   "execution_count": 9,
   "id": "4d31d268-89f1-4ae9-baa4-7c4471102f84",
   "metadata": {},
   "outputs": [],
   "source": [
    "address=\"\"\" Saratpally, Sonai road\n",
    "Silchar,\n",
    "Assam\"\"\"\n"
   ]
  },
  {
   "cell_type": "code",
   "execution_count": 10,
   "id": "28fbe6e1-3605-4a7b-abba-479bc78f6f7d",
   "metadata": {},
   "outputs": [
    {
     "data": {
      "text/plain": [
       "' Saratpally, Sonai road\\nSilchar,\\nAssam'"
      ]
     },
     "execution_count": 10,
     "metadata": {},
     "output_type": "execute_result"
    }
   ],
   "source": [
    "address"
   ]
  },
  {
   "cell_type": "code",
   "execution_count": 11,
   "id": "48cea9a3-11d6-4758-a308-e153713f27d7",
   "metadata": {},
   "outputs": [
    {
     "name": "stdout",
     "output_type": "stream",
     "text": [
      "address\n"
     ]
    }
   ],
   "source": [
    "print(\"address\")"
   ]
  },
  {
   "cell_type": "code",
   "execution_count": 17,
   "id": "282e2f09-16a2-4c5e-b332-45417b4f7aff",
   "metadata": {},
   "outputs": [],
   "source": [
    "table=\"hello,\\nworld\""
   ]
  },
  {
   "cell_type": "code",
   "execution_count": 18,
   "id": "cc37a877-a8cf-4d39-bcd8-9c4a9ed1650c",
   "metadata": {},
   "outputs": [
    {
     "name": "stdout",
     "output_type": "stream",
     "text": [
      "hello,\n",
      "world\n"
     ]
    }
   ],
   "source": [
    "print(table)"
   ]
  },
  {
   "cell_type": "code",
   "execution_count": 19,
   "id": "e9461928-374c-4ce4-b007-951a67c43b34",
   "metadata": {},
   "outputs": [
    {
     "name": "stdout",
     "output_type": "stream",
     "text": [
      "Name\tGrade\tAge\n",
      "Ajay\tA\t35\n",
      "Vijay\tA+\t37\n"
     ]
    }
   ],
   "source": [
    "table= \"Name\\tGrade\\tAge\\nAjay\\tA\\t35\\nVijay\\tA+\\t37\"\n",
    "print(table)"
   ]
  },
  {
   "cell_type": "code",
   "execution_count": 20,
   "id": "c2c88b4a-aabe-4505-a011-4dd049f405b6",
   "metadata": {},
   "outputs": [
    {
     "data": {
      "text/plain": [
       "'Hello,I am Aniket Dutta,I am going to delhi'"
      ]
     },
     "execution_count": 20,
     "metadata": {},
     "output_type": "execute_result"
    }
   ],
   "source": [
    "#\\r>> moves the cursor to the place where you want to start from\n",
    "des=\"Hello,I am Aniket Dutta,I am going to delhi\"\n",
    "des"
   ]
  },
  {
   "cell_type": "code",
   "execution_count": 21,
   "id": "0de73060-d0bc-4438-b99c-27990fe5f0a1",
   "metadata": {},
   "outputs": [],
   "source": [
    "#now\n",
    "des=\"Hello,I am \\rAniket Dutta,I am going to delhi\""
   ]
  },
  {
   "cell_type": "code",
   "execution_count": 22,
   "id": "a51bfbd2-37fb-497d-8db0-5e13de9210a9",
   "metadata": {},
   "outputs": [
    {
     "data": {
      "text/plain": [
       "'Hello,I am \\rAniket Dutta,I am going to delhi'"
      ]
     },
     "execution_count": 22,
     "metadata": {},
     "output_type": "execute_result"
    }
   ],
   "source": [
    "des"
   ]
  },
  {
   "cell_type": "code",
   "execution_count": 23,
   "id": "fcf115d7-06a0-489c-a604-5d04ef349a6a",
   "metadata": {},
   "outputs": [
    {
     "name": "stdout",
     "output_type": "stream",
     "text": [
      "Aniket Dutta,I am going to delhi\n"
     ]
    }
   ],
   "source": [
    "print(des)"
   ]
  },
  {
   "cell_type": "code",
   "execution_count": 24,
   "id": "2e633244-002c-43c6-98d3-d8daf0385d03",
   "metadata": {},
   "outputs": [
    {
     "name": "stdout",
     "output_type": "stream",
     "text": [
      "hello Aniket Dutta, How are you?\n"
     ]
    }
   ],
   "source": [
    "#string formatting>>>\n",
    "name=\"Aniket Dutta\"\n",
    "print(f\"hello {name}, How are you?\")"
   ]
  },
  {
   "cell_type": "code",
   "execution_count": 29,
   "id": "1e2083b0-ccda-41a0-9f52-e263fa7bd49b",
   "metadata": {},
   "outputs": [
    {
     "name": "stdin",
     "output_type": "stream",
     "text": [
      "what is your name mate?  Aniket Dutta\n"
     ]
    },
    {
     "name": "stdout",
     "output_type": "stream",
     "text": [
      "Hello Aniket Dutta, You are an interesting person to hang around with!!!\n"
     ]
    }
   ],
   "source": [
    "name=str(input(\"what is your name mate? \"))\n",
    "print(f\"Hello {name}, You are an interesting person to hang around with!!!\")               \n",
    "               "
   ]
  },
  {
   "cell_type": "code",
   "execution_count": 1,
   "id": "296c48d1-37d0-4fa7-85c7-989f3fbdb6f0",
   "metadata": {},
   "outputs": [
    {
     "name": "stdin",
     "output_type": "stream",
     "text": [
      "what is your name mate?  aniket dutta\n"
     ]
    },
    {
     "name": "stdout",
     "output_type": "stream",
     "text": [
      "you are a cool person aniket dutta\n"
     ]
    }
   ],
   "source": [
    "name=str(input(\"what is your name mate? \"))\n",
    "print(\"you are a cool person \"+name)"
   ]
  },
  {
   "cell_type": "code",
   "execution_count": 3,
   "id": "f806443c-de0e-4984-9bf0-990bc1d3d5c3",
   "metadata": {},
   "outputs": [
    {
     "name": "stdout",
     "output_type": "stream",
     "text": [
      "30 degree in farenheit is 86.0F\n"
     ]
    }
   ],
   "source": [
    "celcius=30\n",
    "print(f\"30 degree in farenheit is {(celcius*9/5)+32}F\")"
   ]
  },
  {
   "cell_type": "code",
   "execution_count": 4,
   "id": "f8343226-8841-43da-bbf4-a8118973420a",
   "metadata": {},
   "outputs": [
    {
     "data": {
      "text/plain": [
       "8"
      ]
     },
     "execution_count": 4,
     "metadata": {},
     "output_type": "execute_result"
    }
   ],
   "source": [
    "#counting alphabets\n",
    "c=\"pwskills\"\n",
    "len(c)"
   ]
  },
  {
   "cell_type": "code",
   "execution_count": 5,
   "id": "ebbb2ef7-f26b-4d8c-9511-9af83e27e96c",
   "metadata": {},
   "outputs": [
    {
     "name": "stdout",
     "output_type": "stream",
     "text": [
      "p\n",
      "w\n",
      "s\n",
      "k\n",
      "i\n",
      "l\n",
      "l\n",
      "s\n",
      "8\n"
     ]
    }
   ],
   "source": [
    "#another way\n",
    "count=0\n",
    "for i in c:\n",
    "    print(i)\n",
    "    count=count+1\n",
    "print(count)\n"
   ]
  },
  {
   "cell_type": "code",
   "execution_count": 6,
   "id": "0e0677d9-45cf-4909-809d-f2843eeceed4",
   "metadata": {},
   "outputs": [],
   "source": [
    "#adding item to list >> another example\n",
    "bookshelf=[]\n",
    "bookshelf.append(\"almanack\")\n",
    "bookshelf.append(\"5 am club\")\n",
    "bookshelf.append(\"big brain\")\n"
   ]
  },
  {
   "cell_type": "code",
   "execution_count": 7,
   "id": "436828cc-1dc9-4456-8766-f73ef7173b91",
   "metadata": {},
   "outputs": [
    {
     "data": {
      "text/plain": [
       "['almanack', '5 am club', 'big brain']"
      ]
     },
     "execution_count": 7,
     "metadata": {},
     "output_type": "execute_result"
    }
   ],
   "source": [
    "bookshelf"
   ]
  },
  {
   "cell_type": "code",
   "execution_count": 8,
   "id": "5d3ecb97-e16d-4467-87cb-797cad80f052",
   "metadata": {},
   "outputs": [],
   "source": [
    "#adding elements to a list puts the element to the last spot...and we dont want that...we want to put the desired element at very\n",
    "#specific position...then we use insert\n",
    "lis=[\"orange\",\"apple\",\"mango\",\"banana\"]\n",
    "lis.insert(2,\"brinjal\")"
   ]
  },
  {
   "cell_type": "code",
   "execution_count": 9,
   "id": "286e876e-3cee-4636-b8c6-1226684ddd4f",
   "metadata": {},
   "outputs": [
    {
     "data": {
      "text/plain": [
       "['orange', 'apple', 'brinjal', 'mango', 'banana']"
      ]
     },
     "execution_count": 9,
     "metadata": {},
     "output_type": "execute_result"
    }
   ],
   "source": [
    "lis"
   ]
  },
  {
   "cell_type": "code",
   "execution_count": 10,
   "id": "8cdaefd5-9f59-4088-80e7-af421d91c112",
   "metadata": {},
   "outputs": [],
   "source": [
    "#adding one list to another\n",
    "my_list=[\"orange\",\"mango\",\"banana\",\"potato\"]\n",
    "brother_list=[\"onion\",\"brinjal\",\"tomato\",\"strawberry\"]\n",
    "my_list.extend(brother_list)"
   ]
  },
  {
   "cell_type": "code",
   "execution_count": 11,
   "id": "a3dd7f46-46ef-4ac6-a01b-8b45570ec7d8",
   "metadata": {},
   "outputs": [
    {
     "data": {
      "text/plain": [
       "['orange',\n",
       " 'mango',\n",
       " 'banana',\n",
       " 'potato',\n",
       " 'onion',\n",
       " 'brinjal',\n",
       " 'tomato',\n",
       " 'strawberry']"
      ]
     },
     "execution_count": 11,
     "metadata": {},
     "output_type": "execute_result"
    }
   ],
   "source": [
    "my_list"
   ]
  },
  {
   "cell_type": "code",
   "execution_count": 15,
   "id": "073dd9f1-bff4-4f33-abf8-700955a36cc0",
   "metadata": {},
   "outputs": [
    {
     "name": "stdout",
     "output_type": "stream",
     "text": [
      "*\n",
      "**\n",
      "***\n",
      "****\n",
      "******\n",
      "********\n",
      "**********\n"
     ]
    }
   ],
   "source": [
    "print(\"*\"*1)\n",
    "print(\"*\"*2)\n",
    "print(\"*\"*3)\n",
    "print(\"*\"*4)\n",
    "print(\"*\"*6)\n",
    "print(\"*\"*8)\n",
    "print(\"*\"*10)"
   ]
  },
  {
   "cell_type": "code",
   "execution_count": 16,
   "id": "8d51f654-2db5-4c99-8819-3008c87c544b",
   "metadata": {},
   "outputs": [],
   "source": [
    "# shallow copy and deep copy\n",
    "#shallow copy>> you make two lists and equate it wiith each other,then changes in one will be reflected in the copied one too\n",
    "my_list=[\"orange\",\"mango\",\"banana\",\"potato\"]\n",
    "a=my_list\n"
   ]
  },
  {
   "cell_type": "code",
   "execution_count": 17,
   "id": "1b52e0b7-2e8e-4746-a42e-553dc7673827",
   "metadata": {},
   "outputs": [
    {
     "data": {
      "text/plain": [
       "['orange', 'mango', 'banana', 'potato']"
      ]
     },
     "execution_count": 17,
     "metadata": {},
     "output_type": "execute_result"
    }
   ],
   "source": [
    "a"
   ]
  },
  {
   "cell_type": "code",
   "execution_count": 18,
   "id": "25f24598-8035-477b-8b05-1f2ebaa91a4f",
   "metadata": {},
   "outputs": [],
   "source": [
    "a[1]=\"brinjal\""
   ]
  },
  {
   "cell_type": "code",
   "execution_count": 19,
   "id": "a2066d32-6d10-41ad-82c3-4bd20c287239",
   "metadata": {},
   "outputs": [
    {
     "data": {
      "text/plain": [
       "['orange', 'brinjal', 'banana', 'potato']"
      ]
     },
     "execution_count": 19,
     "metadata": {},
     "output_type": "execute_result"
    }
   ],
   "source": [
    "a"
   ]
  },
  {
   "cell_type": "code",
   "execution_count": 20,
   "id": "1f03a58e-0f2e-4670-b042-30b42079d52d",
   "metadata": {},
   "outputs": [],
   "source": [
    "#deep copy>>\n",
    "#   deep copy refers to equating two lists,after which changes in one will not be reflected in another.\n",
    "b=my_list.copy()"
   ]
  },
  {
   "cell_type": "code",
   "execution_count": 21,
   "id": "a8658da1-bdd2-49ba-8ae4-8143b5b54a91",
   "metadata": {},
   "outputs": [
    {
     "data": {
      "text/plain": [
       "['orange', 'brinjal', 'banana', 'potato']"
      ]
     },
     "execution_count": 21,
     "metadata": {},
     "output_type": "execute_result"
    }
   ],
   "source": [
    "b"
   ]
  },
  {
   "cell_type": "code",
   "execution_count": 22,
   "id": "b6640b6f-8881-48ed-9905-db3fc86a8d12",
   "metadata": {},
   "outputs": [],
   "source": [
    "b[2]=\"rocket\""
   ]
  },
  {
   "cell_type": "code",
   "execution_count": 23,
   "id": "b2d0e66f-e0d4-4380-91b9-db3c31c5e0e6",
   "metadata": {},
   "outputs": [
    {
     "data": {
      "text/plain": [
       "['orange', 'brinjal', 'rocket', 'potato']"
      ]
     },
     "execution_count": 23,
     "metadata": {},
     "output_type": "execute_result"
    }
   ],
   "source": [
    "b"
   ]
  },
  {
   "cell_type": "code",
   "execution_count": 24,
   "id": "9272a689-affa-445e-8156-7553202c7d61",
   "metadata": {},
   "outputs": [
    {
     "data": {
      "text/plain": [
       "['orange', 'brinjal', 'banana', 'potato']"
      ]
     },
     "execution_count": 24,
     "metadata": {},
     "output_type": "execute_result"
    }
   ],
   "source": [
    "my_list"
   ]
  },
  {
   "cell_type": "code",
   "execution_count": 29,
   "id": "d5360ab6-ff2a-4190-b3a5-195c65dbd9e7",
   "metadata": {},
   "outputs": [
    {
     "data": {
      "text/plain": [
       "['banana', 'brinjal', 'orange', 'potato']"
      ]
     },
     "execution_count": 29,
     "metadata": {},
     "output_type": "execute_result"
    }
   ],
   "source": [
    "sorted(my_list)"
   ]
  },
  {
   "cell_type": "code",
   "execution_count": 31,
   "id": "0ac8a3d6-3037-4f7f-9344-e2cb6b3747bc",
   "metadata": {},
   "outputs": [
    {
     "data": {
      "text/plain": [
       "0"
      ]
     },
     "execution_count": 31,
     "metadata": {},
     "output_type": "execute_result"
    }
   ],
   "source": [
    "my_list.index(\"banana\")"
   ]
  },
  {
   "cell_type": "code",
   "execution_count": 33,
   "id": "e9607bbc-856d-484b-b7df-04c766406d30",
   "metadata": {},
   "outputs": [
    {
     "data": {
      "text/plain": [
       "'potato'"
      ]
     },
     "execution_count": 33,
     "metadata": {},
     "output_type": "execute_result"
    }
   ],
   "source": [
    "#removing very specific inndex element\n",
    "my_list=[\"orange\",\"mango\",\"banana\",\"potato\"]\n",
    "my_list.pop()"
   ]
  },
  {
   "cell_type": "code",
   "execution_count": 1,
   "id": "e404cd76-6327-4b9f-adda-40a278197df0",
   "metadata": {},
   "outputs": [],
   "source": [
    "#list comprehension>> not a concept but a basic sort of practice\n",
    "price=[20,30,40,50]\n"
   ]
  },
  {
   "cell_type": "code",
   "execution_count": 6,
   "id": "9c032443-5e61-4e99-a6ae-baf83592a3b6",
   "metadata": {},
   "outputs": [],
   "source": [
    "price=[20,30,40,50]\n",
    "doubled_price = []\n",
    "for i in price:\n",
    "    doubled_price.append(i*2)"
   ]
  },
  {
   "cell_type": "code",
   "execution_count": 7,
   "id": "aacea7b6-3c0f-4049-a8e2-8c884e96ea2f",
   "metadata": {},
   "outputs": [
    {
     "data": {
      "text/plain": [
       "[40, 60, 80, 100]"
      ]
     },
     "execution_count": 7,
     "metadata": {},
     "output_type": "execute_result"
    }
   ],
   "source": [
    "doubled_price"
   ]
  },
  {
   "cell_type": "code",
   "execution_count": 13,
   "id": "6cb17b77-7ef2-4ca1-9687-c9a374eba31c",
   "metadata": {},
   "outputs": [
    {
     "data": {
      "text/plain": [
       "[40, 60, 80, 100]"
      ]
     },
     "execution_count": 13,
     "metadata": {},
     "output_type": "execute_result"
    }
   ],
   "source": [
    "#easy method>>\n",
    "[i*2 for i in price]"
   ]
  },
  {
   "cell_type": "code",
   "execution_count": 20,
   "id": "0fc0163f-d4fc-4b19-a311-be6b92ff7bba",
   "metadata": {},
   "outputs": [
    {
     "data": {
      "text/plain": [
       "['Ajay', 'Bijay', 'Snajay', 'Sanjit']"
      ]
     },
     "execution_count": 20,
     "metadata": {},
     "output_type": "execute_result"
    }
   ],
   "source": [
    "#capitalise the first letters\n",
    "names=[\"ajay\",\"bijay\",\"snajay\",\"sanjit\"]\n",
    "[i.capitalize()for i in names]"
   ]
  },
  {
   "cell_type": "code",
   "execution_count": 21,
   "id": "cb571341-0106-4d14-a472-651d1c73cce9",
   "metadata": {},
   "outputs": [
    {
     "data": {
      "text/plain": [
       "[1, 4, 9, 16, 25]"
      ]
     },
     "execution_count": 21,
     "metadata": {},
     "output_type": "execute_result"
    }
   ],
   "source": [
    "#getting squares of numbers\n",
    "numbers=[1,2,3,4,5]\n",
    "[i**2 for i in numbers]"
   ]
  },
  {
   "cell_type": "code",
   "execution_count": 35,
   "id": "57eef008-daa0-429e-8753-53c804335dce",
   "metadata": {},
   "outputs": [
    {
     "data": {
      "text/plain": [
       "'jpg'"
      ]
     },
     "execution_count": 35,
     "metadata": {},
     "output_type": "execute_result"
    }
   ],
   "source": [
    "#for knowing the sort of extension used in a file\n",
    "str1= \"aay.jpg\"\n",
    "str1.split(\".\")[-1]\n"
   ]
  },
  {
   "cell_type": "code",
   "execution_count": 1,
   "id": "3316beff-c5ca-4dc6-89f1-9a8060f1766f",
   "metadata": {},
   "outputs": [
    {
     "data": {
      "text/plain": [
       "['c', 'jpg', 'py', 'cpp']"
      ]
     },
     "execution_count": 1,
     "metadata": {},
     "output_type": "execute_result"
    }
   ],
   "source": [
    "files=[\"hey.c\",\"bhd.jpg\",\"dgh.py\",\"ghd.cpp\"]\n",
    "[files.split(\".\")[-1]for files in files]"
   ]
  },
  {
   "cell_type": "code",
   "execution_count": 4,
   "id": "db1d9e14-127d-4637-81b5-9447c9551018",
   "metadata": {},
   "outputs": [
    {
     "data": {
      "text/plain": [
       "['rj@yahoo.com', 'hj@yahoo.com', 'rt@yahoo.com']"
      ]
     },
     "execution_count": 4,
     "metadata": {},
     "output_type": "execute_result"
    }
   ],
   "source": [
    "#conditional list comprehension\n",
    "email_address=[\"mk@gmail.com\",\"rj@yahoo.com\",\"hj@yahoo.com\",\"df@gmail.com\",\"rt@yahoo.com\"]\n",
    "[email for email in email_address if email.endswith(\"@yahoo.com\")]\n"
   ]
  },
  {
   "cell_type": "code",
   "execution_count": 6,
   "id": "c7ad1059-e7a6-4aa7-8578-79a03de5b78e",
   "metadata": {},
   "outputs": [
    {
     "data": {
      "text/plain": [
       "[[1, 4], [1, 5], [1, 6], [2, 4], [2, 5], [2, 6], [3, 4], [3, 5], [3, 6]]"
      ]
     },
     "execution_count": 6,
     "metadata": {},
     "output_type": "execute_result"
    }
   ],
   "source": [
    "pairs=[]\n",
    "for x in [1,2,3]:\n",
    "    for y in [4,5,6]:\n",
    "        pairs.append([x,y])\n",
    "pairs\n",
    "\n",
    "\n"
   ]
  },
  {
   "cell_type": "code",
   "execution_count": 7,
   "id": "6443fcb4-8b4e-4f70-811f-469f23dccf83",
   "metadata": {},
   "outputs": [
    {
     "data": {
      "text/plain": [
       "[[1, 4], [1, 5], [1, 6], [2, 4], [2, 5], [2, 6], [3, 4], [3, 5], [3, 6]]"
      ]
     },
     "execution_count": 7,
     "metadata": {},
     "output_type": "execute_result"
    }
   ],
   "source": [
    "[[x,y]for x in[1,2,3]for y in [4,5,6]]"
   ]
  },
  {
   "cell_type": "code",
   "execution_count": 8,
   "id": "2b6a7403-7eef-474d-b01d-d3617e5a9bd4",
   "metadata": {},
   "outputs": [],
   "source": [
    "#queue>> learn from somewhere else\n"
   ]
  },
  {
   "cell_type": "code",
   "execution_count": 12,
   "id": "3199813a-e2e5-4c26-892d-c85d4f7a05ae",
   "metadata": {},
   "outputs": [],
   "source": [
    "#tuples >> tuples are immutable...you cant make changes/ replace the elements of the tuple like you could do in a list\n",
    "t=(\"informatics\",\"maaza\",2.5,2,3+5j)"
   ]
  },
  {
   "cell_type": "code",
   "execution_count": 13,
   "id": "5cf3bc32-29d7-4866-812b-8e922d0b4f82",
   "metadata": {},
   "outputs": [
    {
     "data": {
      "text/plain": [
       "tuple"
      ]
     },
     "execution_count": 13,
     "metadata": {},
     "output_type": "execute_result"
    }
   ],
   "source": [
    "type(t)"
   ]
  },
  {
   "cell_type": "code",
   "execution_count": 14,
   "id": "8a73d791-9aeb-44c4-af55-7d8c835919a1",
   "metadata": {},
   "outputs": [
    {
     "data": {
      "text/plain": [
       "'informatics'"
      ]
     },
     "execution_count": 14,
     "metadata": {},
     "output_type": "execute_result"
    }
   ],
   "source": [
    "t[0]"
   ]
  },
  {
   "cell_type": "code",
   "execution_count": 15,
   "id": "3565b9b9-90f6-42a1-bf85-7221ce6ffe6a",
   "metadata": {},
   "outputs": [
    {
     "data": {
      "text/plain": [
       "0"
      ]
     },
     "execution_count": 15,
     "metadata": {},
     "output_type": "execute_result"
    }
   ],
   "source": [
    "tuple=(\"abcd\",\"abcd\",\"abcd\",\"ysfg\",1,2,3,1,1,1)\n",
    "tuple.index(\"abcd\")"
   ]
  },
  {
   "cell_type": "code",
   "execution_count": 16,
   "id": "cf4e0829-1899-41f6-b683-fca274bffd03",
   "metadata": {},
   "outputs": [
    {
     "data": {
      "text/plain": [
       "4"
      ]
     },
     "execution_count": 16,
     "metadata": {},
     "output_type": "execute_result"
    }
   ],
   "source": [
    "tuple.count(1)"
   ]
  },
  {
   "cell_type": "code",
   "execution_count": 17,
   "id": "0cb166d8-61ab-4c29-95ee-dacefe672ce9",
   "metadata": {},
   "outputs": [
    {
     "data": {
      "text/plain": [
       "3"
      ]
     },
     "execution_count": 17,
     "metadata": {},
     "output_type": "execute_result"
    }
   ],
   "source": [
    "tuple.count(\"abcd\")"
   ]
  },
  {
   "cell_type": "code",
   "execution_count": 19,
   "id": "3cb63039-9ea9-40c8-b62f-df8c8d4df07e",
   "metadata": {},
   "outputs": [
    {
     "data": {
      "text/plain": [
       "48376"
      ]
     },
     "execution_count": 19,
     "metadata": {},
     "output_type": "execute_result"
    }
   ],
   "source": [
    "#tuples are normally used where the data is not expected to be altered after once it is filled in.\n",
    "t1=(23,45,67,89,1,2435,48376)\n",
    "max(t1)"
   ]
  },
  {
   "cell_type": "code",
   "execution_count": 20,
   "id": "dd886ed2-011f-436f-b361-036cf7e3f312",
   "metadata": {},
   "outputs": [
    {
     "data": {
      "text/plain": [
       "1"
      ]
     },
     "execution_count": 20,
     "metadata": {},
     "output_type": "execute_result"
    }
   ],
   "source": [
    "min(t1)"
   ]
  },
  {
   "cell_type": "code",
   "execution_count": 22,
   "id": "079374ff-aad7-4f5c-bb0d-9ea1b6a94337",
   "metadata": {},
   "outputs": [
    {
     "data": {
      "text/plain": [
       "1"
      ]
     },
     "execution_count": 22,
     "metadata": {},
     "output_type": "execute_result"
    }
   ],
   "source": [
    "s={1,2,3,4}\n",
    "s.pop()"
   ]
  },
  {
   "cell_type": "code",
   "execution_count": 24,
   "id": "497422a7-6e65-4cca-b939-079cb57cf68d",
   "metadata": {},
   "outputs": [
    {
     "data": {
      "text/plain": [
       "2"
      ]
     },
     "execution_count": 24,
     "metadata": {},
     "output_type": "execute_result"
    }
   ],
   "source": [
    "s.pop()"
   ]
  },
  {
   "cell_type": "code",
   "execution_count": 25,
   "id": "0f851e41-67e7-43ea-aae8-af344a589536",
   "metadata": {},
   "outputs": [
    {
     "data": {
      "text/plain": [
       "{3, 4}"
      ]
     },
     "execution_count": 25,
     "metadata": {},
     "output_type": "execute_result"
    }
   ],
   "source": [
    "s"
   ]
  },
  {
   "cell_type": "code",
   "execution_count": 27,
   "id": "ea07043e-6980-479c-83e6-4a5dca02e0b5",
   "metadata": {},
   "outputs": [],
   "source": [
    "s.add(1)"
   ]
  },
  {
   "cell_type": "code",
   "execution_count": 28,
   "id": "7e21e5f5-8e40-468a-b410-0f578a112fc5",
   "metadata": {},
   "outputs": [],
   "source": [
    "s.add(2)"
   ]
  },
  {
   "cell_type": "code",
   "execution_count": 29,
   "id": "74a253d6-228d-4e9a-9f8f-af1022ef3fc4",
   "metadata": {},
   "outputs": [],
   "source": [
    "s.update(\"Ajay\")"
   ]
  },
  {
   "cell_type": "code",
   "execution_count": 30,
   "id": "958fbbaf-53ee-4777-977c-94ebbacafec7",
   "metadata": {},
   "outputs": [
    {
     "data": {
      "text/plain": [
       "{1, 2, 3, 4, 'A', 'a', 'j', 'y'}"
      ]
     },
     "execution_count": 30,
     "metadata": {},
     "output_type": "execute_result"
    }
   ],
   "source": [
    "s"
   ]
  },
  {
   "cell_type": "code",
   "execution_count": 32,
   "id": "42163a9c-2535-417f-8332-e0ae1540f5bf",
   "metadata": {},
   "outputs": [],
   "source": [
    "s.remove(\"A\")"
   ]
  },
  {
   "cell_type": "code",
   "execution_count": 35,
   "id": "d0e20055-10fa-454f-8293-8419d49e3481",
   "metadata": {},
   "outputs": [],
   "source": [
    "s.update([\"Ajay\"])"
   ]
  },
  {
   "cell_type": "code",
   "execution_count": 36,
   "id": "d2a5ad6a-bdfe-4bab-8981-50cf434d21c5",
   "metadata": {},
   "outputs": [
    {
     "data": {
      "text/plain": [
       "{1, 2, 3, 4, 'A', 'Ajay', 'a', 'j', 'y'}"
      ]
     },
     "execution_count": 36,
     "metadata": {},
     "output_type": "execute_result"
    }
   ],
   "source": [
    "s"
   ]
  },
  {
   "cell_type": "code",
   "execution_count": 39,
   "id": "e6022f3d-7b2c-4194-b3bb-78030020d3d2",
   "metadata": {},
   "outputs": [
    {
     "data": {
      "text/plain": [
       "{'coding', 'dancing', 'hiking', 'photography', 'writing'}"
      ]
     },
     "execution_count": 39,
     "metadata": {},
     "output_type": "execute_result"
    }
   ],
   "source": [
    "b1={\"coding\",\"photography\",\"dancing\"}\n",
    "b2={\"hiking\",\"photography\",\"writing\"}\n",
    "b1| b2 #union"
   ]
  },
  {
   "cell_type": "markdown",
   "id": "bd1628ee-7663-4fc2-a7cd-d0a632d215b4",
   "metadata": {},
   "source": [
    "b1 & b2"
   ]
  },
  {
   "cell_type": "code",
   "execution_count": 40,
   "id": "965a46a8-aefc-4c03-b0a1-70c115011bc9",
   "metadata": {},
   "outputs": [
    {
     "data": {
      "text/plain": [
       "{'photography'}"
      ]
     },
     "execution_count": 40,
     "metadata": {},
     "output_type": "execute_result"
    }
   ],
   "source": [
    "b1 & b2 #intersection"
   ]
  },
  {
   "cell_type": "code",
   "execution_count": 41,
   "id": "7ca90c8d-e5b8-4b9f-9e9f-219da6c0be3a",
   "metadata": {},
   "outputs": [
    {
     "data": {
      "text/plain": [
       "{'coding', 'dancing'}"
      ]
     },
     "execution_count": 41,
     "metadata": {},
     "output_type": "execute_result"
    }
   ],
   "source": [
    "b1-b2# difference"
   ]
  },
  {
   "cell_type": "code",
   "execution_count": 42,
   "id": "53e9d797-2be5-420c-a55a-0692d45f4e26",
   "metadata": {},
   "outputs": [
    {
     "data": {
      "text/plain": [
       "{'coding', 'dancing', 'hiking', 'writing'}"
      ]
     },
     "execution_count": 42,
     "metadata": {},
     "output_type": "execute_result"
    }
   ],
   "source": [
    "b1^b2 #symmetric difference>> displays the set discarding the common element"
   ]
  },
  {
   "cell_type": "code",
   "execution_count": 43,
   "id": "e77512ab-0876-4579-aa33-e5baba09605d",
   "metadata": {},
   "outputs": [],
   "source": [
    "#the concept of frozenset >> it makes the set immutable >> nobody can make any alterations in frozenset\n",
    "my_fs=frozenset([1,2,3,4,5,6])"
   ]
  },
  {
   "cell_type": "code",
   "execution_count": 44,
   "id": "13e3ac0e-34c8-4aaa-8f97-1115d9d6cc8d",
   "metadata": {},
   "outputs": [
    {
     "data": {
      "text/plain": [
       "frozenset({1, 2, 3, 4, 5, 6})"
      ]
     },
     "execution_count": 44,
     "metadata": {},
     "output_type": "execute_result"
    }
   ],
   "source": [
    "my_fs"
   ]
  },
  {
   "cell_type": "code",
   "execution_count": 45,
   "id": "e9388228-baf0-44cc-8704-4cb03faaf798",
   "metadata": {},
   "outputs": [
    {
     "data": {
      "text/plain": [
       "{'name': 'Aniket', 'profession': 'data science', 'colour': 'black'}"
      ]
     },
     "execution_count": 45,
     "metadata": {},
     "output_type": "execute_result"
    }
   ],
   "source": [
    "#dictionary >> dictionary stores the value provided by the user in such a way that each element inserted inside the dictionary\n",
    "# has a unique keyname ,which is inserted by the user itself...unlike lists,where each element entered in the list has a keyname\n",
    "# given automatically,eg...1st element will be asssigned the value ---> 0,the next one is assigned the keyname 1,and so on...\n",
    "# the elements in the dictionary are known by their keynames provided by the user itself.\n",
    "d={\"name\":\"Aniket\",\"profession\":\"data science\",\"colour\":\"black\"}\n",
    "d"
   ]
  },
  {
   "cell_type": "code",
   "execution_count": 46,
   "id": "519ac47c-32a0-4433-a5e7-f1ec44b3a5a8",
   "metadata": {},
   "outputs": [
    {
     "data": {
      "text/plain": [
       "'Aniket'"
      ]
     },
     "execution_count": 46,
     "metadata": {},
     "output_type": "execute_result"
    }
   ],
   "source": [
    "d[\"name\"]"
   ]
  },
  {
   "cell_type": "code",
   "execution_count": 47,
   "id": "6f545988-7f89-4b16-b894-90e0e2a16780",
   "metadata": {},
   "outputs": [
    {
     "ename": "KeyError",
     "evalue": "1",
     "output_type": "error",
     "traceback": [
      "\u001b[1;31m---------------------------------------------------------------------------\u001b[0m",
      "\u001b[1;31mKeyError\u001b[0m                                  Traceback (most recent call last)",
      "Cell \u001b[1;32mIn[47], line 1\u001b[0m\n\u001b[1;32m----> 1\u001b[0m \u001b[43md\u001b[49m\u001b[43m[\u001b[49m\u001b[38;5;241;43m1\u001b[39;49m\u001b[43m]\u001b[49m\n",
      "\u001b[1;31mKeyError\u001b[0m: 1"
     ]
    }
   ],
   "source": [
    "d[1]"
   ]
  },
  {
   "cell_type": "code",
   "execution_count": 48,
   "id": "08a3a289-bfd3-4671-9efe-479ddd122c31",
   "metadata": {},
   "outputs": [],
   "source": [
    "#value under keynames might be anything as per user's wish, but keynames can only be strings,integers,float and tuple;\n",
    "# >> adding elements to the dictionary>>\n",
    "d[\"address\"]=\"silchar\""
   ]
  },
  {
   "cell_type": "code",
   "execution_count": 49,
   "id": "2efd7f93-ab0d-44cd-ae2d-808cc7677731",
   "metadata": {},
   "outputs": [
    {
     "data": {
      "text/plain": [
       "{'name': 'Aniket',\n",
       " 'profession': 'data science',\n",
       " 'colour': 'black',\n",
       " 'address': 'silchar'}"
      ]
     },
     "execution_count": 49,
     "metadata": {},
     "output_type": "execute_result"
    }
   ],
   "source": [
    "d"
   ]
  },
  {
   "cell_type": "code",
   "execution_count": 50,
   "id": "a016bc71-5ac7-47df-8847-8a7e6df29683",
   "metadata": {},
   "outputs": [
    {
     "data": {
      "text/plain": [
       "dict_keys(['name', 'profession', 'colour', 'address'])"
      ]
     },
     "execution_count": 50,
     "metadata": {},
     "output_type": "execute_result"
    }
   ],
   "source": [
    "d.keys()"
   ]
  },
  {
   "cell_type": "code",
   "execution_count": 51,
   "id": "8cb4db74-d13b-46b7-8e60-0e1cc0077287",
   "metadata": {},
   "outputs": [
    {
     "data": {
      "text/plain": [
       "dict_values(['Aniket', 'data science', 'black', 'silchar'])"
      ]
     },
     "execution_count": 51,
     "metadata": {},
     "output_type": "execute_result"
    }
   ],
   "source": [
    "d.values()"
   ]
  },
  {
   "cell_type": "code",
   "execution_count": 52,
   "id": "42fe5646-b99f-42aa-9e4e-f9e202354f2c",
   "metadata": {},
   "outputs": [],
   "source": [
    "d.clear()"
   ]
  },
  {
   "cell_type": "code",
   "execution_count": 53,
   "id": "181efb12-5650-43fa-ac32-30e025e443ee",
   "metadata": {},
   "outputs": [
    {
     "data": {
      "text/plain": [
       "{}"
      ]
     },
     "execution_count": 53,
     "metadata": {},
     "output_type": "execute_result"
    }
   ],
   "source": [
    "d"
   ]
  },
  {
   "cell_type": "code",
   "execution_count": 54,
   "id": "9a4397b6-0e4f-4f77-88f0-483f28cdc08c",
   "metadata": {},
   "outputs": [],
   "source": [
    "del d"
   ]
  },
  {
   "cell_type": "code",
   "execution_count": 55,
   "id": "900c42c9-31d9-401f-9ef3-89be7046acf5",
   "metadata": {},
   "outputs": [
    {
     "ename": "NameError",
     "evalue": "name 'd' is not defined",
     "output_type": "error",
     "traceback": [
      "\u001b[1;31m---------------------------------------------------------------------------\u001b[0m",
      "\u001b[1;31mNameError\u001b[0m                                 Traceback (most recent call last)",
      "Cell \u001b[1;32mIn[55], line 1\u001b[0m\n\u001b[1;32m----> 1\u001b[0m d1\u001b[38;5;241m=\u001b[39m\u001b[43md\u001b[49m\u001b[38;5;241m.\u001b[39mcopy()\n",
      "\u001b[1;31mNameError\u001b[0m: name 'd' is not defined"
     ]
    }
   ],
   "source": [
    "d1=d.copy()"
   ]
  },
  {
   "cell_type": "code",
   "execution_count": 62,
   "id": "1c9a8d4e-1510-4518-91c0-0e8793ed5689",
   "metadata": {},
   "outputs": [
    {
     "data": {
      "text/plain": [
       "{1: ('a', 'b', 'c'), 2: ('a', 'b', 'c'), 3: ('a', 'b', 'c')}"
      ]
     },
     "execution_count": 62,
     "metadata": {},
     "output_type": "execute_result"
    }
   ],
   "source": [
    "#fromkeys>>\n",
    "d={}\n",
    "d.fromkeys((1,2,3),(\"a\",\"b\",\"c\"))"
   ]
  },
  {
   "cell_type": "code",
   "execution_count": 66,
   "id": "dee51cac-e6d7-4ed5-87f9-4eebcbdf3205",
   "metadata": {},
   "outputs": [],
   "source": [
    "students=[\"arun\",\"vijay\",\"tarun\"]\n",
    "marks= [97,98,99]\n",
    "students_marks={}\n",
    "for j,i in zip(students,marks):\n",
    "    students_marks[j]=i"
   ]
  },
  {
   "cell_type": "code",
   "execution_count": 67,
   "id": "c6935ea1-b075-4b65-bad1-60b64c6058a8",
   "metadata": {},
   "outputs": [
    {
     "data": {
      "text/plain": [
       "{'arun': 97, 'vijay': 98, 'tarun': 99}"
      ]
     },
     "execution_count": 67,
     "metadata": {},
     "output_type": "execute_result"
    }
   ],
   "source": [
    "students_marks"
   ]
  },
  {
   "cell_type": "code",
   "execution_count": 68,
   "id": "42c37862-5cdb-48cb-b1fa-33d152db4f6b",
   "metadata": {},
   "outputs": [
    {
     "data": {
      "text/plain": [
       "{'arun': 97, 'vijay': 98, 'tarun': 99}"
      ]
     },
     "execution_count": 68,
     "metadata": {},
     "output_type": "execute_result"
    }
   ],
   "source": [
    "#dictionary comprehension method>>>\n",
    "students=[\"arun\",\"vijay\",\"tarun\"]\n",
    "marks= [97,98,99]\n",
    "{j:i for j,i in zip(students,marks)}\n",
    "\n"
   ]
  },
  {
   "cell_type": "code",
   "execution_count": null,
   "id": "523c7bc5-6181-4a30-aaf9-13e5361a0913",
   "metadata": {},
   "outputs": [],
   "source": []
  }
 ],
 "metadata": {
  "kernelspec": {
   "display_name": "Python 3 (ipykernel)",
   "language": "python",
   "name": "python3"
  },
  "language_info": {
   "codemirror_mode": {
    "name": "ipython",
    "version": 3
   },
   "file_extension": ".py",
   "mimetype": "text/x-python",
   "name": "python",
   "nbconvert_exporter": "python",
   "pygments_lexer": "ipython3",
   "version": "3.12.4"
  }
 },
 "nbformat": 4,
 "nbformat_minor": 5
}
